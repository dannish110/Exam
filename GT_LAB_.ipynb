{
  "nbformat": 4,
  "nbformat_minor": 0,
  "metadata": {
    "colab": {
      "provenance": []
    },
    "kernelspec": {
      "name": "python3",
      "display_name": "Python 3"
    },
    "language_info": {
      "name": "python"
    }
  },
  "cells": [
    {
      "cell_type": "code",
      "source": [
        "!pip install gambit\n",
        "!pip install nashpy"
      ],
      "metadata": {
        "colab": {
          "base_uri": "https://localhost:8080/"
        },
        "id": "6ds-lvA_yVBw",
        "outputId": "a28c6afe-b4b3-4d7b-9aa2-70107be28a36"
      },
      "execution_count": null,
      "outputs": [
        {
          "output_type": "stream",
          "name": "stdout",
          "text": [
            "Requirement already satisfied: gambit in /usr/local/lib/python3.11/dist-packages (0.1.6)\n",
            "Requirement already satisfied: nashpy in /usr/local/lib/python3.11/dist-packages (0.0.41)\n",
            "Requirement already satisfied: numpy>=1.21.0 in /usr/local/lib/python3.11/dist-packages (from nashpy) (2.0.2)\n",
            "Requirement already satisfied: scipy>=0.19.0 in /usr/local/lib/python3.11/dist-packages (from nashpy) (1.15.3)\n",
            "Requirement already satisfied: networkx>=3.0.0 in /usr/local/lib/python3.11/dist-packages (from nashpy) (3.4.2)\n",
            "Requirement already satisfied: deprecated>=1.2.14 in /usr/local/lib/python3.11/dist-packages (from nashpy) (1.2.18)\n",
            "Requirement already satisfied: wrapt<2,>=1.10 in /usr/local/lib/python3.11/dist-packages (from deprecated>=1.2.14->nashpy) (1.17.2)\n"
          ]
        }
      ]
    },
    {
      "cell_type": "code",
      "source": [
        "# Exp 1  nash eql for 2 player game\n",
        "\n",
        "import nashpy as nash\n",
        "import numpy as np\n",
        "\n",
        "# Define the payoff matrices for two players\n",
        "A = np.array([[-1, -3], [0, -2]])  # Player 1's payoffs\n",
        "B = np.array([[-1, 0], [-3, -2]])  # Player 2's payoffs\n",
        "\n",
        "# Create the game\n",
        "game = nash.Game(A, B)\n",
        "\n",
        "# Compute Nash Equilibria\n",
        "equilibria = list(game.support_enumeration())\n",
        "\n",
        "print(\"Nash Equilibria:\", equilibria)"
      ],
      "metadata": {
        "colab": {
          "base_uri": "https://localhost:8080/"
        },
        "id": "gXrP___Z5K4S",
        "outputId": "7c25d120-c016-40fc-b84f-36a68b593828"
      },
      "execution_count": null,
      "outputs": [
        {
          "output_type": "stream",
          "name": "stdout",
          "text": [
            "Nash Equilibria: [(array([0., 1.]), array([0., 1.]))]\n"
          ]
        }
      ]
    },
    {
      "cell_type": "code",
      "source": [
        "# Exp 2 Saddle point 2*2\n",
        "\n",
        "import numpy as np\n",
        "\n",
        "def find_saddle_point(matrix):\n",
        "    min_row = np.min(matrix, axis=1)  # Min values in each row\n",
        "    max_col = np.max(matrix, axis=0)  # Max values in each column\n",
        "\n",
        "    for i in range(2):\n",
        "        for j in range(2):\n",
        "            if matrix[i, j] == min_row[i] == max_col[j]:\n",
        "                return (i, j, matrix[i, j])  # (row, col, value)\n",
        "\n",
        "    return \"No saddle point\"\n",
        "\n",
        "# Example\n",
        "game_matrix = np.array([[3, 7], [2, 5]])\n",
        "print(find_saddle_point(game_matrix))"
      ],
      "metadata": {
        "colab": {
          "base_uri": "https://localhost:8080/"
        },
        "id": "Um8bOkET4yBR",
        "outputId": "5be88e75-2140-4210-9210-40793a5ef6bd"
      },
      "execution_count": null,
      "outputs": [
        {
          "output_type": "stream",
          "name": "stdout",
          "text": [
            "(0, 0, np.int64(3))\n"
          ]
        }
      ]
    },
    {
      "cell_type": "code",
      "source": [
        "# Exp 3 NFG\n",
        "\n",
        "class NormalFormGame:\n",
        "    def __init__(self, p1_matrix, p2_matrix):\n",
        "        self.p1_matrix = p1_matrix  # Payoff matrix for Player 1\n",
        "        self.p2_matrix = p2_matrix  # Payoff matrix for Player 2\n",
        "\n",
        "    def get_payoffs(self, strategy1, strategy2):\n",
        "        \"\"\"Returns payoffs for both players given their chosen strategies.\"\"\"\n",
        "        return self.p1_matrix[strategy1][strategy2], self.p2_matrix[strategy1][strategy2]\n",
        "\n",
        "# Example: A 2x2 Normal Form Game\n",
        "p1_matrix = [[3, 1], [0, 2]]  # Player 1 payoffs\n",
        "p2_matrix = [[2, 0], [1, 3]]  # Player 2 payoffs\n",
        "\n",
        "game = NormalFormGame(p1_matrix, p2_matrix)\n",
        "\n",
        "# Get payoffs for a strategy pair (0,1) -> (Row 0, Column 1)\n",
        "print(\"Payoffs at (0,1):\", game.get_payoffs(0, 1))\n"
      ],
      "metadata": {
        "colab": {
          "base_uri": "https://localhost:8080/"
        },
        "id": "FRpZ8I7P4snV",
        "outputId": "4f6fcb3b-116c-4762-be7b-9cc34ecf4f78"
      },
      "execution_count": null,
      "outputs": [
        {
          "output_type": "stream",
          "name": "stdout",
          "text": [
            "Payoffs at (0,1): (1, 0)\n"
          ]
        }
      ]
    },
    {
      "cell_type": "code",
      "source": [
        "# Exp 4 \tWrite a program using python library(gambit) to find nash Equilibrium.\n",
        "\n",
        "import nashpy as nash\n",
        "import numpy as np\n",
        "A = np.array([[1, -1], [-1, 1]])\n",
        "matching_pennies = nash.Game(A)\n",
        "\n",
        "equilibria = matching_pennies.support_enumeration()\n",
        "for eq in equilibria:\n",
        "    print(eq)\n",
        "\n",
        "\n",
        "\n"
      ],
      "metadata": {
        "colab": {
          "base_uri": "https://localhost:8080/"
        },
        "id": "JRP6uHqFx0ft",
        "outputId": "c3a0aab0-0ef1-492c-b18b-da31112b3008"
      },
      "execution_count": null,
      "outputs": [
        {
          "output_type": "stream",
          "name": "stdout",
          "text": [
            "(array([0.5, 0.5]), array([0.5, 0.5]))\n"
          ]
        }
      ]
    },
    {
      "cell_type": "code",
      "source": [
        "#Exp 4 \tWrite a program using python library(gambit) to find nash Equilibrium.\n",
        "\n",
        "import pygambit as gambit\n",
        "\n",
        "# Create a 2-player game with 2 strategies each\n",
        "game = gambit.Game.from_arrays(\n",
        "    [[3, 0], [5, 1]],  # Player 1's payoffs\n",
        "    [[3, 5], [0, 1]]   # Player 2's payoffs\n",
        ")\n",
        "\n",
        "# Solve for Nash Equilibria using mixed strategy enumeration\n",
        "result = gambit.nash.enummixed_solve(game)\n",
        "\n",
        "# Print the results\n",
        "print(\"Nash Equilibria:\")\n",
        "# Check if result is iterable; if not, treat as a single equilibrium or access equilibria attribute\n",
        "try:\n",
        "    equilibria = result.equilibria if hasattr(result, 'equilibria') else [result]\n",
        "    for eq in equilibria:\n",
        "        print(eq)\n",
        "except AttributeError:\n",
        "  # Fallback: treat result as a single equilibrium\n",
        "  print(result)"
      ],
      "metadata": {
        "id": "IluIO6lnJrF7"
      },
      "execution_count": null,
      "outputs": []
    },
    {
      "cell_type": "code",
      "source": [
        "# Exp 5 \tWrite a program in python to form a game representation in Tree like form.\n",
        "\n",
        "class GameTreeNode:\n",
        "    def __init__(self, state, value=None):\n",
        "        self.state = state\n",
        "        self.value = value\n",
        "        self.children = []\n",
        "\n",
        "    def add(self, *children):\n",
        "        self.children.extend(children)\n",
        "\n",
        "    def display(self, level=0):\n",
        "        print(\" \" * 4 * level + f\"State: {self.state}, Value: {self.value}\")\n",
        "        for child in self.children:\n",
        "            child.display(level + 1)\n",
        "\n",
        "# Build and display the tree\n",
        "if __name__ == \"__main__\":\n",
        "    root = GameTreeNode(\"Start\")\n",
        "    node1 = GameTreeNode(\"Move 1\")\n",
        "    node2 = GameTreeNode(\"Move 2\")\n",
        "\n",
        "    node1.add(GameTreeNode(\"Move 1-1\", 10), GameTreeNode(\"Move 1-2\", -5))\n",
        "    node2.add(GameTreeNode(\"Move 2-1\", 7))\n",
        "\n",
        "    root.add(node1, node2)\n",
        "    root.display()\n"
      ],
      "metadata": {
        "colab": {
          "base_uri": "https://localhost:8080/"
        },
        "id": "B4Eq6Tc2yls7",
        "outputId": "7d78ed92-fa92-41ef-e18e-d0a5d048f037"
      },
      "execution_count": null,
      "outputs": [
        {
          "output_type": "stream",
          "name": "stdout",
          "text": [
            "State: Start, Value: None\n",
            "    State: Move 1, Value: None\n",
            "        State: Move 1-1, Value: 10\n",
            "        State: Move 1-2, Value: -5\n",
            "    State: Move 2, Value: None\n",
            "        State: Move 2-1, Value: 7\n"
          ]
        }
      ]
    },
    {
      "cell_type": "code",
      "source": [
        "# Exp 6 \tDesign Bayesian Game concept in Game theory using python\n",
        "\n",
        "import itertools\n",
        "\n",
        "players = ['Player 1', 'Player 2']\n",
        "types = {'Player 1': [0, 1], 'Player 2': [0, 1]}\n",
        "strategies = [0, 1]\n",
        "beliefs = {'Player 1': [0.5, 0.5], 'Player 2': [0.5, 0.5]}\n",
        "\n",
        "payoffs = {\n",
        "    (0, 0, 0, 0): (3, 2), (0, 0, 0, 1): (1, 4), (0, 0, 1, 0): (5, 1), (0, 0, 1, 1): (2, 3),\n",
        "    (0, 1, 0, 0): (4, 3), (0, 1, 0, 1): (2, 2), (0, 1, 1, 0): (1, 5), (0, 1, 1, 1): (3, 4),\n",
        "    (1, 0, 0, 0): (2, 1), (1, 0, 0, 1): (3, 5), (1, 0, 1, 0): (4, 2), (1, 0, 1, 1): (1, 3),\n",
        "    (1, 1, 0, 0): (3, 4), (1, 1, 0, 1): (5, 2), (1, 1, 1, 0): (1, 3), (1, 1, 1, 1): (2, 1),\n",
        "}\n",
        "\n",
        "def expected_payoff(player, p_type, p_strat, opp_strat_func):\n",
        "    opp = 'Player 2' if player == 'Player 1' else 'Player 1'\n",
        "    return sum(\n",
        "        beliefs[player][i] *\n",
        "        (payoffs[(p_type, opp_type, p_strat, opp_strat_func(opp_type))][0] if player == 'Player 1'\n",
        "         else payoffs[(opp_type, p_type, opp_strat_func(opp_type), p_strat)][1])\n",
        "        for i, opp_type in enumerate(types[opp])\n",
        "    )\n",
        "\n",
        "def is_best_response(player, p_type, p_strat, opp_strat_func):\n",
        "    return all(\n",
        "        expected_payoff(player, p_type, p_strat, opp_strat_func) >=\n",
        "        expected_payoff(player, p_type, alt_strat, opp_strat_func)\n",
        "        for alt_strat in strategies\n",
        "    )\n",
        "\n",
        "def check_bayesian_nash_eq(profile):\n",
        "    for player in players:\n",
        "        opp = 'Player 2' if player == 'Player 1' else 'Player 1'\n",
        "        opp_strat_func = lambda t: profile[(opp, t)]\n",
        "        for p_type in types[player]:\n",
        "            if not is_best_response(player, p_type, profile[(player, p_type)], opp_strat_func):\n",
        "                return False\n",
        "    return True\n",
        "\n",
        "# Generate all pure strategy profiles (for 4 player-type combos)\n",
        "all_profiles = itertools.product(strategies, repeat=4)\n",
        "\n",
        "equilibria = []\n",
        "for prof in all_profiles:\n",
        "    profile = {('Player 1', 0): prof[0], ('Player 1', 1): prof[1],\n",
        "               ('Player 2', 0): prof[2], ('Player 2', 1): prof[3]}\n",
        "    if check_bayesian_nash_eq(profile):\n",
        "        equilibria.append(profile)\n",
        "\n",
        "print(\"Pure Strategy Bayesian Nash Equilibria found:\")\n",
        "for eq in equilibria:\n",
        "    print(eq)\n",
        "\n"
      ],
      "metadata": {
        "colab": {
          "base_uri": "https://localhost:8080/"
        },
        "id": "LvVsmKXUy5Bv",
        "outputId": "43fb1faa-d960-41ea-880e-281b2a9df23b"
      },
      "execution_count": null,
      "outputs": [
        {
          "output_type": "stream",
          "name": "stdout",
          "text": [
            "Pure Strategy Bayesian Nash Equilibria found:\n",
            "{('Player 1', 0): 0, ('Player 1', 1): 0, ('Player 2', 0): 1, ('Player 2', 1): 0}\n"
          ]
        }
      ]
    },
    {
      "cell_type": "code",
      "source": [
        "!pip install pygambit"
      ],
      "metadata": {
        "colab": {
          "base_uri": "https://localhost:8080/"
        },
        "id": "eGtK_oMcdOYI",
        "outputId": "532fdecb-5802-4db6-b79a-6723ce16ec65"
      },
      "execution_count": null,
      "outputs": [
        {
          "output_type": "stream",
          "name": "stdout",
          "text": [
            "Collecting pygambit\n",
            "  Using cached pygambit-16.3.0.tar.gz (910 kB)\n",
            "  Installing build dependencies ... \u001b[?25l\u001b[?25hdone\n",
            "  Getting requirements to build wheel ... \u001b[?25l\u001b[?25hdone\n",
            "  Preparing metadata (pyproject.toml) ... \u001b[?25l\u001b[?25hdone\n",
            "Requirement already satisfied: numpy in /usr/local/lib/python3.11/dist-packages (from pygambit) (2.0.2)\n",
            "Requirement already satisfied: scipy in /usr/local/lib/python3.11/dist-packages (from pygambit) (1.15.3)\n",
            "Requirement already satisfied: deprecated in /usr/local/lib/python3.11/dist-packages (from pygambit) (1.2.18)\n",
            "Requirement already satisfied: wrapt<2,>=1.10 in /usr/local/lib/python3.11/dist-packages (from deprecated->pygambit) (1.17.2)\n",
            "Building wheels for collected packages: pygambit\n",
            "  Building wheel for pygambit (pyproject.toml) ... \u001b[?25l\u001b[?25hdone\n",
            "  Created wheel for pygambit: filename=pygambit-16.3.0-cp311-cp311-linux_x86_64.whl size=19716004 sha256=e17cc3eb78ff3668d1410d703eb6c63bfa622f4ae0127781eb55a161c1f8e5f6\n",
            "  Stored in directory: /root/.cache/pip/wheels/36/4b/41/17fe83bf030ade60857cdf84b09df9ee68518ac038cd5526e3\n",
            "Successfully built pygambit\n",
            "Installing collected packages: pygambit\n",
            "Successfully installed pygambit-16.3.0\n"
          ]
        }
      ]
    },
    {
      "cell_type": "code",
      "source": [
        "# Exp 6 Bayesian games\n",
        "\n",
        "import pygambit\n",
        "\n",
        "# Create a Bayesian game with two players, each with two types\n",
        "game = pygambit.Game.new_table([2, 2, 2, 2])  # 2 players, each with 2 types, each type has 2 strategies\n",
        "\n",
        "# Label players\n",
        "game.players[0].label = \"Player 1\"\n",
        "game.players[1].label = \"Player 2\"\n",
        "\n",
        "# Assign type probabilities (beliefs)\n",
        "beliefs = {\n",
        "    \"Player 1\": [0.5, 0.5],  # Player 1 believes Player 2's types are equally likely\n",
        "    \"Player 2\": [0.5, 0.5]   # Player 2 believes Player 1's types are equally likely\n",
        "}\n",
        "\n",
        "# Assign payoffs (indexed by (type1, type2, strategy1, strategy2))\n",
        "payoffs = {\n",
        "    (0, 0, 0, 0): (3, 2),  # (Player 1 Type 0, Player 2 Type 0, Strategy 0, Strategy 0)\n",
        "    (0, 0, 0, 1): (1, 4),\n",
        "    (0, 0, 1, 0): (5, 1),\n",
        "    (0, 0, 1, 1): (2, 3),\n",
        "\n",
        "    (0, 1, 0, 0): (4, 3),\n",
        "    (0, 1, 0, 1): (2, 2),\n",
        "    (0, 1, 1, 0): (1, 5),\n",
        "    (0, 1, 1, 1): (3, 4),\n",
        "\n",
        "    (1, 0, 0, 0): (2, 1),\n",
        "    (1, 0, 0, 1): (3, 5),\n",
        "    (1, 0, 1, 0): (4, 2),\n",
        "    (1, 0, 1, 1): (1, 3),\n",
        "\n",
        "    (1, 1, 0, 0): (3, 4),\n",
        "    (1, 1, 0, 1): (5, 2),\n",
        "    (1, 1, 1, 0): (1, 3),\n",
        "    (1, 1, 1, 1): (2, 1),\n",
        "}\n",
        "\n",
        "# Assign payoffs to Gambit game\n",
        "for (t1, t2, s1, s2), (p1, p2) in payoffs.items():\n",
        "    game[t1, t2, s1, s2][game.players[0]] = p1  # Payoff for Player 1\n",
        "    game[t1, t2, s1, s2][game.players[1]] = p2  # Payoff for Player 2\n",
        "\n",
        "# Compute Bayesian Nash Equilibria\n",
        "solver = pygambit.nash.enumpure_solve(game)\n",
        "print(\"Bayesian Nash Equilibria:\")\n",
        "for eq in solver.equilibria:\n",
        "    print(eq)\n",
        "\n"
      ],
      "metadata": {
        "id": "3Lvhl2IrPl8l"
      },
      "execution_count": null,
      "outputs": []
    },
    {
      "cell_type": "code",
      "source": [
        "# Exp 7 zero sum game\n",
        "\n",
        "import numpy as np\n",
        "from scipy.optimize import linprog\n",
        "\n",
        "def zero_sum_game_solver(payoff_matrix):\n",
        "    num_strategies = payoff_matrix.shape[0]  # Number of strategies for Player 1\n",
        "\n",
        "    # LP variables: [v, p1_strategy_probs...]\n",
        "    # Objective: maximize v (game value)\n",
        "    # linprog minimizes, so minimize -v => c = [-1, 0, 0, ..., 0]\n",
        "    c = [-1] + [0] * num_strategies\n",
        "\n",
        "    # Inequality constraints: for each column j of payoff_matrix\n",
        "    # sum_i p_i * A_ij >= v  <=>  -v + sum_i p_i * A_ij >= 0\n",
        "    # Represented as -v + A * p >= 0  <=>  -A * p + v <= 0 for linprog\n",
        "    # We transpose payoff_matrix and multiply by -1 to get A_ub and b_ub.\n",
        "    A_ub = np.hstack((\n",
        "        -np.ones((num_strategies, 1)),  # Coefficient of -v for each constraint\n",
        "        payoff_matrix\n",
        "    ))\n",
        "    b_ub = np.zeros(num_strategies)\n",
        "\n",
        "    # Equality constraint: sum of probabilities = 1\n",
        "    A_eq = [[0] + [1] * num_strategies]\n",
        "    b_eq = [1]\n",
        "\n",
        "    # Bounds: v is unrestricted, probabilities between 0 and 1\n",
        "    bounds = [(None, None)] + [(0, 1)] * num_strategies\n",
        "\n",
        "    # Solve LP\n",
        "    res = linprog(c, A_ub=A_ub, b_ub=b_ub, A_eq=A_eq, b_eq=b_eq, bounds=bounds, method='highs')\n",
        "\n",
        "    if res.success:\n",
        "        v = 1 / res.x[0]  # Game value\n",
        "        strategy = res.x[1:] * v  # Scale probabilities to sum to 1\n",
        "        return v, strategy\n",
        "    else:\n",
        "        return None, None\n",
        "\n",
        "# Example usage with a 2x2 payoff matrix for Player 1\n",
        "payoff_matrix = np.array([\n",
        "    [3, -1],\n",
        "    [5,  2]\n",
        "])\n",
        "\n",
        "value, strategy = zero_sum_game_solver(payoff_matrix)\n",
        "if strategy is not None:\n",
        "    print(f\"Game Value: {value:.2f}\")\n",
        "    print(f\"Optimal Mixed Strategy for Player 1: {np.round(strategy, 2)}\")\n",
        "else:\n",
        "    print(\"No optimal strategy found.\")\n",
        "\n"
      ],
      "metadata": {
        "colab": {
          "base_uri": "https://localhost:8080/"
        },
        "id": "B_M9Ld0n14_x",
        "outputId": "9cd76eb7-c50e-450f-d09d-1ce2b8697f5a"
      },
      "execution_count": null,
      "outputs": [
        {
          "output_type": "stream",
          "name": "stdout",
          "text": [
            "No optimal strategy found.\n"
          ]
        }
      ]
    },
    {
      "cell_type": "code",
      "source": [
        "# Exp 7\n",
        "\n",
        "import numpy as np\n",
        "from scipy.optimize import linprog\n",
        "\n",
        "def zero_sum_game_solver(A):\n",
        "    n = A.shape[0]\n",
        "    c = [-1] + [0] * n\n",
        "    A_ub = np.hstack((-np.ones((n, 1)), A))\n",
        "    b_ub = np.zeros(n)\n",
        "    A_eq = [[0] + [1] * n]\n",
        "    b_eq = [1]\n",
        "    bounds = [(None, None)] + [(0, 1)] * n\n",
        "\n",
        "    res = linprog(c, A_ub, b_ub, A_eq, b_eq, bounds, method='highs')\n",
        "    if res.success:\n",
        "        v = 1 / res.x[0]\n",
        "        strategy = res.x[1:] * v\n",
        "        return v, strategy\n",
        "    return None, None\n",
        "\n",
        "# Example\n",
        "A = np.array([[3, -1], [5, 2]])\n",
        "value, strategy = zero_sum_game_solver(A)\n",
        "\n",
        "if strategy is not None:\n",
        "    print(f\"Game Value: {value:.2f}\")\n",
        "    print(f\"Optimal Strategy for Player 1: {np.round(strategy, 2)}\")\n",
        "else:\n",
        "    print(\"No optimal strategy found.\")\n"
      ],
      "metadata": {
        "colab": {
          "base_uri": "https://localhost:8080/"
        },
        "id": "a9mqg2ckaDL7",
        "outputId": "55fb9431-740c-4641-e265-9436c5a76b57"
      },
      "execution_count": null,
      "outputs": [
        {
          "output_type": "stream",
          "name": "stdout",
          "text": [
            "No optimal strategy found.\n"
          ]
        }
      ]
    },
    {
      "cell_type": "code",
      "source": [
        "# Exp 8  python code to develop model for first price auction and second price auction\n",
        "\n",
        "import random\n",
        "from abc import ABC, abstractmethod\n",
        "\n",
        "class Auction(ABC):\n",
        "    def __init__(self, bidders):\n",
        "        self.bidders = bidders\n",
        "        self.winner = None\n",
        "        self.final_price = None\n",
        "\n",
        "    @abstractmethod\n",
        "    def conduct_auction(self):\n",
        "        pass\n",
        "\n",
        "class FirstPriceSealedBidAuction(Auction):\n",
        "    def conduct_auction(self):\n",
        "        highest_bidder = max(self.bidders, key=lambda b: b['bid'])\n",
        "        self.winner = highest_bidder\n",
        "        self.final_price = highest_bidder['bid']\n",
        "        return self.winner, self.final_price\n",
        "\n",
        "class SecondPriceSealedBidAuction(Auction):\n",
        "    def conduct_auction(self):\n",
        "        sorted_bidders = sorted(self.bidders, key=lambda b: b['bid'], reverse=True)\n",
        "        self.winner = sorted_bidders[0]\n",
        "        self.final_price = (\n",
        "            sorted_bidders[1]['bid'] if len(sorted_bidders) > 1 else sorted_bidders[0]['bid']\n",
        "        )\n",
        "        return self.winner, self.final_price\n",
        "\n",
        "# Example Usage\n",
        "if __name__ == \"__main__\":\n",
        "    bidders = [\n",
        "        {'name': 'Alice', 'bid': 80},\n",
        "        {'name': 'Bob', 'bid': 110},\n",
        "        {'name': 'Charlie', 'bid': 85}\n",
        "    ]\n",
        "\n",
        "    # First-Price Auction\n",
        "    first_price_auction = FirstPriceSealedBidAuction(bidders)\n",
        "    winner, price = first_price_auction.conduct_auction()\n",
        "    print(f\"First-Price Auction Winner: {winner['name']} at price ${price}\")\n",
        "\n",
        "    # Second-Price Auction\n",
        "    second_price_auction = SecondPriceSealedBidAuction(bidders)\n",
        "    winner, price = second_price_auction.conduct_auction()\n",
        "    print(f\"Second-Price Auction Winner: {winner['name']} at price ${price}\")\n"
      ],
      "metadata": {
        "colab": {
          "base_uri": "https://localhost:8080/"
        },
        "id": "MU1s8jTIqx5_",
        "outputId": "0ce3b51b-7045-4db4-ed92-1894380977db"
      },
      "execution_count": null,
      "outputs": [
        {
          "output_type": "stream",
          "name": "stdout",
          "text": [
            "First-Price Auction Winner: Bob at price $110\n",
            "Second-Price Auction Winner: Bob at price $85\n"
          ]
        }
      ]
    },
    {
      "cell_type": "code",
      "source": [
        "# Exp 8  first price auction and second price auction\n",
        "\n",
        "class Auction:\n",
        "    def __init__(self, bidders): self.bidders = bidders\n",
        "\n",
        "class FirstPriceAuction(Auction):\n",
        "    def conduct(self):\n",
        "        winner = max(self.bidders, key=lambda b: b['bid'])\n",
        "        return winner['name'], winner['bid']\n",
        "\n",
        "class SecondPriceAuction(Auction):\n",
        "    def conduct(self):\n",
        "        bids = sorted(self.bidders, key=lambda b: b['bid'], reverse=True)\n",
        "        price = bids[1]['bid'] if len(bids) > 1 else bids[0]['bid']\n",
        "        return bids[0]['name'], price\n",
        "\n",
        "# Example usage\n",
        "bidders = [{'name': 'Alice', 'bid': 80}, {'name': 'Bob', 'bid': 110}, {'name': 'Charlie', 'bid': 85}]\n",
        "\n",
        "f_winner, f_price = FirstPriceAuction(bidders).conduct()\n",
        "print(f\"First-Price Winner: {f_winner} at ${f_price}\")\n",
        "\n",
        "s_winner, s_price = SecondPriceAuction(bidders).conduct()\n",
        "print(f\"Second-Price Winner: {s_winner} at ${s_price}\")\n"
      ],
      "metadata": {
        "colab": {
          "base_uri": "https://localhost:8080/"
        },
        "id": "Y-ZMvbFUgnaf",
        "outputId": "8a47f9d4-2950-484c-d661-77d01cb3873e"
      },
      "execution_count": null,
      "outputs": [
        {
          "output_type": "stream",
          "name": "stdout",
          "text": [
            "First-Price Winner: Bob at $110\n",
            "Second-Price Winner: Bob at $85\n"
          ]
        }
      ]
    },
    {
      "cell_type": "code",
      "source": [
        "# EXP 9 PYTHON Code to apply evolutionary game theory concept\n",
        "\n",
        "import numpy as np\n",
        "import matplotlib.pyplot as plt\n",
        "\n",
        "# Define the payoff matrix for a two-strategy game\n",
        "A = np.array([\n",
        "    [3, 0],  # Payoff when both choose strategy 1\n",
        "    [5, 1]   # Payoff when one chooses strategy 1, the other strategy 2\n",
        "])\n",
        "\n",
        "# Replicator dynamics function\n",
        "def replicator_dynamics(x, A, timesteps=100, dt=0.01):\n",
        "    \"\"\"\n",
        "    Simulate the evolution of strategy fractions in a population.\n",
        "\n",
        "    Parameters:\n",
        "    x : np.array\n",
        "        Initial strategy distribution (e.g., [0.5, 0.5])\n",
        "    A : np.array\n",
        "        Payoff matrix\n",
        "    timesteps : int\n",
        "        Number of iterations\n",
        "    dt : float\n",
        "        Step size for time evolution\n",
        "\n",
        "    Returns:\n",
        "    np.array\n",
        "        History of strategy distributions over time\n",
        "    \"\"\"\n",
        "    x_history = [x]\n",
        "\n",
        "    for _ in range(timesteps):\n",
        "        fitness = A @ x  # Compute fitness of each strategy\n",
        "        avg_fitness = np.dot(x, fitness)  # Compute average fitness\n",
        "        x = x + dt * (x * (fitness - avg_fitness))  # Replicator equation\n",
        "        x = np.clip(x, 0, 1)  # Ensure values remain valid\n",
        "        x /= np.sum(x)  # Normalize to sum to 1\n",
        "        x_history.append(x.copy())\n",
        "\n",
        "    return np.array(x_history)\n",
        "\n",
        "# Initial strategy distribution (50% each strategy)\n",
        "x0 = np.array([0.5, 0.5])\n",
        "\n",
        "# Simulate evolution\n",
        "evolution = replicator_dynamics(x0, A, timesteps=500, dt=0.01)\n",
        "\n",
        "# Plot the results\n",
        "plt.plot(evolution[:, 0], label=\"Strategy 1\")\n",
        "plt.plot(evolution[:, 1], label=\"Strategy 2\")\n",
        "plt.xlabel(\"Time Steps\")\n",
        "plt.ylabel(\"Strategy Frequency\")\n",
        "plt.title(\"Evolutionary Game Theory - Replicator Dynamics\")\n",
        "plt.legend()\n",
        "plt.grid(True)\n",
        "plt.tight_layout()\n",
        "plt.show()\n"
      ],
      "metadata": {
        "colab": {
          "base_uri": "https://localhost:8080/",
          "height": 487
        },
        "id": "tJ8NFrcVwsGi",
        "outputId": "d6d2d009-1306-4dfe-d9d4-728c08ec1d84"
      },
      "execution_count": null,
      "outputs": [
        {
          "output_type": "display_data",
          "data": {
            "text/plain": [
              "<Figure size 640x480 with 1 Axes>"
            ],
            "image/png": "[encoded data removed]"
          },
          "metadata": {}
        }
      ]
    },
    {
      "cell_type": "code",
      "source": [
        "#Exp 9\n",
        "\n",
        "import numpy as np\n",
        "import matplotlib.pyplot as plt\n",
        "\n",
        "# Payoff matrix for a 2-strategy game\n",
        "A = np.array([[3, 0], [5, 1]])\n",
        "\n",
        "# Replicator dynamics simulation\n",
        "def simulate(x, A, steps=500, dt=0.01):\n",
        "    history = [x.copy()]\n",
        "    for _ in range(steps):\n",
        "        fitness = A @ x\n",
        "        avg = x @ fitness\n",
        "        x += dt * x * (fitness - avg)\n",
        "        x = np.clip(x, 0, 1)\n",
        "        x /= x.sum()\n",
        "        history.append(x.copy())\n",
        "    return np.array(history)\n",
        "\n",
        "# Initial strategy distribution (50-50)\n",
        "x0 = np.array([0.5, 0.5])\n",
        "evolution = simulate(x0, A)\n",
        "\n",
        "# Plot\n",
        "plt.plot(evolution[:, 0], label=\"Strategy 1\")\n",
        "plt.plot(evolution[:, 1], label=\"Strategy 2\")\n",
        "plt.title(\"Replicator Dynamics\")\n",
        "plt.xlabel(\"Time\")\n",
        "plt.ylabel(\"Frequency\")\n",
        "plt.legend()\n",
        "plt.grid(True)\n",
        "plt.show()\n"
      ],
      "metadata": {
        "colab": {
          "base_uri": "https://localhost:8080/",
          "height": 472
        },
        "id": "ca2l2KqLpmPa",
        "outputId": "1b0e989f-d2c3-4ebe-8123-fe1c797c4c40"
      },
      "execution_count": null,
      "outputs": [
        {
          "output_type": "display_data",
          "data": {
            "text/plain": [
              "<Figure size 640x480 with 1 Axes>"
            ],
            "image/png": "[encoded data removed]"
          },
          "metadata": {}
        }
      ]
    },
    {
      "cell_type": "code",
      "source": [
        "# Exp 10: Python code to understand Cooperative Games\n",
        "\n",
        "import itertools\n",
        "import math  # <-- Correct module for factorial\n",
        "\n",
        "def shapley_value(players, coalition_values):\n",
        "    \"\"\"\n",
        "    Compute the Shapley value for each player in a cooperative game.\n",
        "\n",
        "    :param players: List of players\n",
        "    :param coalition_values: Dictionary with coalition tuples as keys and their values as values\n",
        "    :return: Dictionary of Shapley values for each player\n",
        "    \"\"\"\n",
        "    n = len(players)\n",
        "    shapley_values = {player: 0 for player in players}\n",
        "\n",
        "    for player in players:\n",
        "        for coalition in itertools.combinations(players, n):\n",
        "            if player in coalition:\n",
        "                S = tuple(p for p in coalition if p != player)\n",
        "\n",
        "                # Compute marginal contribution\n",
        "                weight = (math.factorial(len(S)) * math.factorial(n - len(S) - 1)) / math.factorial(n)\n",
        "                marginal_contribution = coalition_values.get(coalition, 0) - coalition_values.get(S, 0)\n",
        "\n",
        "                shapley_values[player] += weight * marginal_contribution\n",
        "\n",
        "    return shapley_values\n",
        "\n",
        "# Example: Three-player cooperative game\n",
        "players = ['A', 'B', 'C']\n",
        "coalition_values = {\n",
        "    (): 0,\n",
        "    ('A',): 1,\n",
        "    ('B',): 2,\n",
        "    ('C',): 3,\n",
        "    ('A', 'B'): 5,\n",
        "    ('A', 'C'): 6,\n",
        "    ('B', 'C'): 8,\n",
        "    ('A', 'B', 'C'): 10\n",
        "}\n",
        "\n",
        "shapley_vals = shapley_value(players, coalition_values)\n",
        "\n",
        "print(\"Shapley Values:\")\n",
        "for player, value in shapley_vals.items():\n",
        "    print(f\"Player {player}: {round(value, 2)}\")\n"
      ],
      "metadata": {
        "colab": {
          "base_uri": "https://localhost:8080/"
        },
        "id": "_ynLZOL-xUaT",
        "outputId": "6d711a51-6abb-4820-89b2-6e6f9c976afc"
      },
      "execution_count": null,
      "outputs": [
        {
          "output_type": "stream",
          "name": "stdout",
          "text": [
            "Shapley Values:\n",
            "Player A: 0.67\n",
            "Player B: 1.33\n",
            "Player C: 1.67\n"
          ]
        }
      ]
    },
    {
      "cell_type": "code",
      "execution_count": null,
      "metadata": {
        "colab": {
          "base_uri": "https://localhost:8080/"
        },
        "id": "mUUw2SMCeDKO",
        "outputId": "1457c356-e2b3-4057-de8b-c448c793aee8"
      },
      "outputs": [
        {
          "output_type": "stream",
          "name": "stdout",
          "text": [
            "Winner: Alice\n",
            "Payments:\n",
            " Alice: $80\n",
            " Bob: $0\n",
            " Charlie: $0\n"
          ]
        }
      ],
      "source": [
        "# EXP 11 VCGAuction python code to implement mechanism of design in game theory\n",
        "\n",
        "class VCGAuction:\n",
        "\n",
        "    def __init__(self, bidders):\n",
        "        \"\"\"\n",
        "        bidders: dict of {agent_name: value}\n",
        "        \"\"\"\n",
        "        self.bidders = bidders\n",
        "        self.winner = None\n",
        "        self.payments = {}\n",
        "\n",
        "    def run_auction(self):\n",
        "        # Sort bidders by their value\n",
        "        sorted_bidders = sorted(self.bidders.items(), key=lambda x: x[1], reverse=True)\n",
        "        self.winner = sorted_bidders[0][0]\n",
        "        second_price = sorted_bidders[1][1] if len(sorted_bidders) > 1 else 0\n",
        "\n",
        "        # VCG payment rule: winner pays the externality imposed (second highest value)\n",
        "        for bidder in self.bidders:\n",
        "            if bidder == self.winner:\n",
        "                self.payments[bidder] = second_price\n",
        "            else:\n",
        "                self.payments[bidder] = 0\n",
        "\n",
        "    def get_result(self):\n",
        "        return {\n",
        "            'winner': self.winner,\n",
        "            'payments': self.payments\n",
        "        }\n",
        "\n",
        "# Example usage\n",
        "if __name__ == \"__main__\":\n",
        "    bidders = {\n",
        "        'Alice': 100,\n",
        "        'Bob': 80,\n",
        "        'Charlie': 60\n",
        "    }\n",
        "\n",
        "    auction = VCGAuction(bidders)\n",
        "    auction.run_auction()\n",
        "    result = auction.get_result()\n",
        "\n",
        "    print(\"Winner:\", result['winner'])\n",
        "    print(\"Payments:\")\n",
        "    for bidder, payment in result['payments'].items():\n",
        "        print(f\" {bidder}: ${payment}\")\n",
        "\n"
      ]
    },
    {
      "cell_type": "code",
      "source": [
        "#  EXP 12 Develop a game theory project using python Prisoners Dillemma\n",
        "\n",
        "import tkinter as tk\n",
        "from tkinter import ttk\n",
        "import random\n",
        "\n",
        "# Payoff matrix\n",
        "PAYOFFS = {\n",
        "    ('C', 'C'): (3, 3),\n",
        "    ('C', 'D'): (0, 5),\n",
        "    ('D', 'C'): (5, 0),\n",
        "    ('D', 'D'): (1, 1)\n",
        "}\n",
        "\n",
        "# Strategy functions\n",
        "def always_cooperate(_, __):\n",
        "    return 'C'\n",
        "\n",
        "def always_defect(_, __):\n",
        "    return 'D'\n",
        "\n",
        "def tit_for_tat(my_history, opp_history):\n",
        "    if not opp_history:\n",
        "        return 'C'\n",
        "    return opp_history[-1]\n",
        "\n",
        "def random_strategy(_, __):\n",
        "    return random.choice(['C', 'D'])\n",
        "\n",
        "STRATEGIES = {\n",
        "    'Always Cooperate': always_cooperate,\n",
        "    'Always Defect': always_defect,\n",
        "    'Tit for Tat': tit_for_tat,\n",
        "    'Random': random_strategy\n",
        "}\n",
        "\n",
        "class PrisonersDilemmaGUI:\n",
        "    def __init__(self, root):\n",
        "        self.root = root\n",
        "        self.root.title(\"Prisoner's Dilemma Game\")\n",
        "\n",
        "        # Histories and scores\n",
        "        self.player_history = []\n",
        "        self.cpu_history = []\n",
        "        self.player_score = 0\n",
        "        self.cpu_score = 0\n",
        "\n",
        "        # GUI Components\n",
        "        self.create_widgets()\n",
        "\n",
        "    def create_widgets(self):\n",
        "        # Dropdown for player strategy\n",
        "        tk.Label(self.root, text=\"Select Your Strategy:\").pack()\n",
        "        self.strategy_var = tk.StringVar(value='Tit for Tat')\n",
        "        self.strategy_dropdown = ttk.Combobox(\n",
        "            self.root, textvariable=self.strategy_var,\n",
        "            values=list(STRATEGIES.keys()), state=\"readonly\"\n",
        "        )\n",
        "        self.strategy_dropdown.pack()\n",
        "\n",
        "        # CPU strategy display\n",
        "        self.cpu_label = tk.Label(self.root, text=\"CPU Strategy: Random\")\n",
        "        self.cpu_label.pack()\n",
        "\n",
        "        # Play button\n",
        "        self.play_button = tk.Button(self.root, text=\"Play Next Round\",\n",
        "                                     command=self.play_round)\n",
        "        self.play_button.pack(pady=10)\n",
        "\n",
        "        # History and score display\n",
        "        self.result_text = tk.Text(self.root, height=10, width=50, state='disabled')\n",
        "        self.result_text.pack(pady=5)\n",
        "\n",
        "        # Reset button\n",
        "        self.reset_button = tk.Button(self.root, text=\"Reset Game\",\n",
        "                                      command=self.reset_game)\n",
        "        self.reset_button.pack()\n",
        "\n",
        "    def play_round(self):\n",
        "        # Get selected player strategy function\n",
        "        player_strategy = STRATEGIES[self.strategy_var.get()]\n",
        "        cpu_strategy = random_strategy  # fixed CPU strategy\n",
        "\n",
        "        # Get moves\n",
        "        player_move = player_strategy(self.player_history, self.cpu_history)\n",
        "        cpu_move = cpu_strategy(self.cpu_history, self.player_history)\n",
        "\n",
        "        # Get payoffs\n",
        "        payoff_player, payoff_cpu = PAYOFFS[(player_move, cpu_move)]\n",
        "\n",
        "        # Update history and scores\n",
        "        self.player_history.append(player_move)\n",
        "        self.cpu_history.append(cpu_move)\n",
        "        self.player_score += payoff_player\n",
        "        self.cpu_score += payoff_cpu\n",
        "\n",
        "        # Update text box\n",
        "        self.result_text.config(state='normal')\n",
        "        self.result_text.insert(tk.END,\n",
        "            f\"Round {len(self.player_history)}: You - {player_move}, CPU - {cpu_move}\\n\")\n",
        "        self.result_text.insert(tk.END,\n",
        "            f\"Scores → You: {self.player_score} | CPU: {self.cpu_score}\\n\\n\")\n",
        "        self.result_text.config(state='disabled')\n",
        "\n",
        "    def reset_game(self):\n",
        "        self.player_history.clear()\n",
        "        self.cpu_history.clear()\n",
        "        self.player_score = 0\n",
        "        self.cpu_score = 0\n",
        "        self.result_text.config(state='normal')\n",
        "        self.result_text.delete(1.0, tk.END)\n",
        "        self.result_text.config(state='disabled')\n",
        "\n",
        "# Run GUI\n",
        "if __name__ == \"__main__\":\n",
        "    root = tk.Tk()\n",
        "    game = PrisonersDilemmaGUI(root)\n",
        "    root.mainloop()\n",
        "\n"
      ],
      "metadata": {
        "id": "LVvxghb5oi4E"
      },
      "execution_count": null,
      "outputs": []
    },
    {
      "cell_type": "code",
      "source": [
        "# EXP 13 Bargaining model\n",
        "\n",
        "import random\n",
        "\n",
        "TOTAL_AMOUNT = 100\n",
        "DISCOUNT_FACTOR = 0.9  # Value of money decreases each round\n",
        "\n",
        "def bargaining_game():\n",
        "    global TOTAL_AMOUNT  # Declare before using or modifying TOTAL_AMOUNT\n",
        "\n",
        "    round_num = 1\n",
        "    proposer = 'A'\n",
        "    responder = 'B'\n",
        "\n",
        "    while True:\n",
        "        print(f\"\\nRound {round_num} - {proposer} makes an offer to {responder}\")\n",
        "\n",
        "        # Proposer makes an offer\n",
        "        offer_to_A = random.randint(0, TOTAL_AMOUNT)\n",
        "        offer_to_B = TOTAL_AMOUNT - offer_to_A\n",
        "\n",
        "        if proposer == 'B':\n",
        "            offer_to_A, offer_to_B = offer_to_B, offer_to_A\n",
        "\n",
        "        print(f\"Offer: A gets ${offer_to_A}, B gets ${offer_to_B}\")\n",
        "\n",
        "        # Responder decides (simulate acceptance probability)\n",
        "        acceptance_threshold = 40  # Responder wants at least $40\n",
        "        responder_share = offer_to_B if responder == 'B' else offer_to_A\n",
        "\n",
        "        if responder_share >= acceptance_threshold:\n",
        "            print(f\"{responder} accepts the offer!\")\n",
        "            print(f\"✅ Final Deal: A gets ${offer_to_A}, B gets ${offer_to_B}\")\n",
        "            break\n",
        "        else:\n",
        "            print(f\"{responder} rejects the offer.\")\n",
        "\n",
        "        round_num += 1\n",
        "\n",
        "        # Apply discount\n",
        "        TOTAL_AMOUNT = int(TOTAL_AMOUNT * DISCOUNT_FACTOR)\n",
        "\n",
        "        # Swap roles\n",
        "        proposer, responder = responder, proposer\n",
        "\n",
        "# Run the game\n",
        "if __name__ == \"__main__\":\n",
        "    print(\"Bargaining Game: Split $100 between Player A and Player B\")\n",
        "    bargaining_game()\n"
      ],
      "metadata": {
        "colab": {
          "base_uri": "https://localhost:8080/"
        },
        "id": "vsvYXkX4qA9f",
        "outputId": "1014ae49-8049-4177-d410-6dad413234e3"
      },
      "execution_count": null,
      "outputs": [
        {
          "output_type": "stream",
          "name": "stdout",
          "text": [
            "Bargaining Game: Split $100 between Player A and Player B\n",
            "\n",
            "Round 1 - A makes an offer to B\n",
            "Offer: A gets $85, B gets $15\n",
            "B rejects the offer.\n",
            "\n",
            "Round 2 - B makes an offer to A\n",
            "Offer: A gets $45, B gets $45\n",
            "A accepts the offer!\n",
            "✅ Final Deal: A gets $45, B gets $45\n"
          ]
        }
      ]
    }
  ]
}